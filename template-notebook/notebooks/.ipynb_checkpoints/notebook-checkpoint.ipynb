{
 "cells": [
  {
   "cell_type": "markdown",
   "metadata": {},
   "source": [
    "# ```<Semantic segmentation using unet>```\n",
    "\n",
    "\n",
    "## Description\n",
    "\n",
    "Unlike Image classification, the semantic segmentation requires output as the localisation information.\n",
    "\n",
    "## Overview\n",
    "\n",
    "Provide a brief overview. \n",
    "\n",
    "\n",
    "## Pre-requisite\n",
    "\n",
    "List any pre-requisites that you think must be covered. \n",
    "\n",
    "## Learning Outcomes\n",
    "\n",
    "What are the learning outcomes by completing the concept"
   ]
  },
  {
   "cell_type": "markdown",
   "metadata": {},
   "source": [
    "## Chapter 1: ```<Insert Title>```\n",
    "\n",
    "### Description: ```<Insert brief description of what the chapter will cover.>```"
   ]
  },
  {
   "cell_type": "markdown",
   "metadata": {},
   "source": [
    "### 1.1 ```<Insert Title>```\n",
    "\n",
    "\n",
    "If the topic contains only theory, put the theory corresponding to the topic here. For providing any demo code, use the code as follows\n",
    "\n",
    "\\~~~python\n",
    "\n",
    "c = a + b\n",
    "\n",
    "\\~~~\n",
    "\n",
    "On rendering it gives, \n",
    "\n",
    "~~~python\n",
    "c = a + b\n",
    "~~~\n",
    "\n",
    "**Note:** Please use one cell only for one theory topic. "
   ]
  },
  {
   "cell_type": "markdown",
   "metadata": {},
   "source": [
    "### 1.2  ```<Insert Title>```\n",
    "\n",
    "\n",
    "\n",
    "If the topic contains a hands-on exercise for the learner, then put the theory in this cell. The topic would consist of 4 cells\n",
    "\n",
    "- Cell 1 - theory corresponding to the topic. This is a Markdown cell.\n",
    "- Cell 2 - description corresponding to the coding task with the instructions. This is a Markdown cell.\n",
    "- Cell 3 - solution to the given task. This is a Code cell.\n",
    "- Cell 4 - test cases to evaluate for the learner's code. This is a Markdown cell.  "
   ]
  },
  {
   "cell_type": "markdown",
   "metadata": {},
   "source": [
    "#### ```<Insert Title of the Coding Task>```\n",
    "\n",
    "Provide a brief description of the coding task. And provide the instructions below. \n",
    "\n",
    "\n",
    "#### Instructions\n",
    "- Instruction 1\n",
    "- Instruction 2\n",
    "- Instruction 3"
   ]
  },
  {
   "cell_type": "code",
   "execution_count": 4,
   "metadata": {
    "ExecuteTime": {
     "end_time": "2019-01-28T09:13:13.649341Z",
     "start_time": "2019-01-28T09:13:13.646710Z"
    }
   },
   "outputs": [],
   "source": [
    "# add the solution code to the task you have just given\n",
    "# also please use pep8 standards in your code\n",
    "\n",
    "\n",
    "# Code starts here\n",
    "\n",
    "\n",
    "# Code ends here"
   ]
  },
  {
   "cell_type": "markdown",
   "metadata": {},
   "source": [
    "#### Test Cases\n",
    "\n",
    "Put the expressions for the test cases here. "
   ]
  },
  {
   "cell_type": "markdown",
   "metadata": {},
   "source": [
    "### 1.3 ```<Insert Title>```\n",
    "\n",
    "Use the above template to create the notebook. For theory use the format of 1.1 and for practice, use the format of 1.2. Copy these cells to create as much content as needed. "
   ]
  },
  {
   "cell_type": "code",
   "execution_count": null,
   "metadata": {},
   "outputs": [],
   "source": []
  }
 ],
 "metadata": {
  "hide_input": false,
  "kernelspec": {
   "display_name": "Python 3",
   "language": "python",
   "name": "python3"
  },
  "language_info": {
   "codemirror_mode": {
    "name": "ipython",
    "version": 3
   },
   "file_extension": ".py",
   "mimetype": "text/x-python",
   "name": "python",
   "nbconvert_exporter": "python",
   "pygments_lexer": "ipython3",
   "version": "3.6.7"
  }
 },
 "nbformat": 4,
 "nbformat_minor": 2
}
